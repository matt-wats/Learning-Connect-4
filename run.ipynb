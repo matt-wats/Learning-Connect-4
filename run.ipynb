{
 "cells": [
  {
   "cell_type": "code",
   "execution_count": 1,
   "metadata": {},
   "outputs": [],
   "source": [
    "import torch\n",
    "\n",
    "import numpy as np\n",
    "\n",
    "import Board\n",
    "import Evaluator\n",
    "import Search\n",
    "import Play\n",
    "import Train\n",
    "\n",
    "import matplotlib.pyplot as plt"
   ]
  },
  {
   "cell_type": "code",
   "execution_count": 34,
   "metadata": {},
   "outputs": [],
   "source": [
    "evaluator = Evaluator.Evaluator()\n",
    "optimizer = torch.optim.AdamW(evaluator.parameters(), lr=1e-2)"
   ]
  },
  {
   "cell_type": "code",
   "execution_count": 35,
   "metadata": {},
   "outputs": [
    {
     "name": "stdout",
     "output_type": "stream",
     "text": [
      "Game #1 / 120 |\tGame #2 / 120 |\tGame #3 / 120 |\tGame #4 / 120 |\tGame #5 / 120 |\tGame #6 / 120 |\tGame #7 / 120 |\tGame #8 / 120 |\tGame #9 / 120 |\tGame #10 / 120 |\tGame #11 / 120 |\tGame #12 / 120 |\tGame #13 / 120 |\tGame #14 / 120 |\tGame #15 / 120 |\tGame #16 / 120 |\tGame #17 / 120 |\tGame #18 / 120 |\tGame #19 / 120 |\tGame #20 / 120 |\tGame #21 / 120 |\tGame #22 / 120 |\tGame #23 / 120 |\tGame #24 / 120 |\tGame #25 / 120 |\tGame #26 / 120 |\tGame #27 / 120 |\tGame #28 / 120 |\tGame #29 / 120 |\tGame #30 / 120 |\tGame #31 / 120 |\tGame #32 / 120 |\tGame #33 / 120 |\tGame #34 / 120 |\tGame #35 / 120 |\tGame #36 / 120 |\tGame #37 / 120 |\tGame #38 / 120 |\tGame #39 / 120 |\tGame #40 / 120 |\tGame #41 / 120 |\tGame #42 / 120 |\tGame #43 / 120 |\tGame #44 / 120 |\tGame #45 / 120 |\tGame #46 / 120 |\tGame #47 / 120 |\tGame #48 / 120 |\tGame #49 / 120 |\tGame #50 / 120 |\tGame #51 / 120 |\tGame #52 / 120 |\tGame #53 / 120 |\tGame #54 / 120 |\tGame #55 / 120 |\tGame #56 / 120 |\tGame #57 / 120 |\tGame #58 / 120 |\tGame #59 / 120 |\tGame #60 / 120 |\tGame #61 / 120 |\tGame #62 / 120 |\tGame #63 / 120 |\tGame #64 / 120 |\tGame #65 / 120 |\tGame #66 / 120 |\tGame #67 / 120 |\tGame #68 / 120 |\tGame #69 / 120 |\tGame #70 / 120 |\tGame #71 / 120 |\tGame #72 / 120 |\tGame #73 / 120 |\tGame #74 / 120 |\tGame #75 / 120 |\tGame #76 / 120 |\tGame #77 / 120 |\tGame #78 / 120 |\tGame #79 / 120 |\tGame #80 / 120 |\tGame #81 / 120 |\tGame #82 / 120 |\tGame #83 / 120 |\tGame #84 / 120 |\tGame #85 / 120 |\tGame #86 / 120 |\tGame #87 / 120 |\tGame #88 / 120 |\tGame #89 / 120 |\tGame #90 / 120 |\tGame #91 / 120 |\tGame #92 / 120 |\tGame #93 / 120 |\tGame #94 / 120 |\tGame #95 / 120 |\tGame #96 / 120 |\tGame #97 / 120 |\tGame #98 / 120 |\tGame #99 / 120 |\tGame #100 / 120 |\tGame #101 / 120 |\tGame #102 / 120 |\tGame #103 / 120 |\tGame #104 / 120 |\tGame #105 / 120 |\tGame #106 / 120 |\tGame #107 / 120 |\tGame #108 / 120 |\tGame #109 / 120 |\tGame #110 / 120 |\tGame #111 / 120 |\tGame #112 / 120 |\tGame #113 / 120 |\tGame #114 / 120 |\tGame #115 / 120 |\tGame #116 / 120 |\tGame #117 / 120 |\tGame #118 / 120 |\tGame #119 / 120 |\tGame #120 / 120 |\t"
     ]
    }
   ],
   "source": [
    "epochs = 40*3\n",
    "losses = Train.train(evaluator, epochs, optimizer)"
   ]
  },
  {
   "cell_type": "code",
   "execution_count": 36,
   "metadata": {},
   "outputs": [
    {
     "data": {
      "text/plain": [
       "[<matplotlib.lines.Line2D at 0x1fab803cd90>]"
      ]
     },
     "execution_count": 36,
     "metadata": {},
     "output_type": "execute_result"
    },
    {
     "data": {
      "image/png": "[encoded data removed]",
      "text/plain": [
       "<Figure size 432x288 with 1 Axes>"
      ]
     },
     "metadata": {
      "needs_background": "light"
     },
     "output_type": "display_data"
    }
   ],
   "source": [
    "plt.semilogy(losses)"
   ]
  },
  {
   "cell_type": "code",
   "execution_count": 37,
   "metadata": {},
   "outputs": [
    {
     "data": {
      "text/plain": [
       "1.56248079292709e-05"
      ]
     },
     "execution_count": 37,
     "metadata": {},
     "output_type": "execute_result"
    }
   ],
   "source": [
    "np.min(losses)"
   ]
  },
  {
   "cell_type": "code",
   "execution_count": 38,
   "metadata": {},
   "outputs": [],
   "source": [
    "positions, score = Play.play_game(evaluator)"
   ]
  }
 ],
 "metadata": {
  "kernelspec": {
   "display_name": "Python 3.9.7 64-bit",
   "language": "python",
   "name": "python3"
  },
  "language_info": {
   "codemirror_mode": {
    "name": "ipython",
    "version": 3
   },
   "file_extension": ".py",
   "mimetype": "text/x-python",
   "name": "python",
   "nbconvert_exporter": "python",
   "pygments_lexer": "ipython3",
   "version": "3.9.7"
  },
  "orig_nbformat": 4,
  "vscode": {
   "interpreter": {
    "hash": "14546760c827fd72838203d07fc6082afc8b5bae4fd1bdec1330a454e4872fe6"
   }
  }
 },
 "nbformat": 4,
 "nbformat_minor": 2
}
